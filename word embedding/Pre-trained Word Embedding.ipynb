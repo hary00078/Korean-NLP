{
 "cells": [
  {
   "cell_type": "code",
   "execution_count": 1,
   "id": "5eee45ef",
   "metadata": {},
   "outputs": [
    {
     "name": "stderr",
     "output_type": "stream",
     "text": [
      "C:\\Users\\user\\anaconda3\\envs\\konlpy\\lib\\site-packages\\gensim\\similarities\\__init__.py:15: UserWarning: The gensim.similarities.levenshtein submodule is disabled, because the optional Levenshtein package <https://pypi.org/project/python-Levenshtein/> is unavailable. Install Levenhstein (e.g. `pip install python-Levenshtein`) to suppress this warning.\n",
      "  warnings.warn(msg)\n"
     ]
    }
   ],
   "source": [
    "from gensim.test.utils import datapath, get_tmpfile\n",
    "from gensim.models import KeyedVectors\n",
    "from gensim.scripts.glove2word2vec import glove2word2vec"
   ]
  },
  {
   "cell_type": "markdown",
   "id": "8f8c3bd3",
   "metadata": {},
   "source": [
    "사전 훈련된 glove로 맵핑(mapping)된 단어들의 벡터 모음집(glove.txt)를 읽어 gensim의 word2vec 모델이 읽을 수 있도록 포맷(format)을 변경한다. 벡터 모음집에는 총 358,043개의 단어들에 대한 벡터들이 정의되어 있으며 100차원 벡터공간에서 표현된다."
   ]
  },
  {
   "cell_type": "code",
   "execution_count": 2,
   "id": "4eb7423f",
   "metadata": {},
   "outputs": [],
   "source": [
    "input_file = \"glove.txt\" # https://ratsgo.github.io/embedding/downloaddata.html에서 다운로드\n",
    "output_file = \"tmp.txt\""
   ]
  },
  {
   "cell_type": "code",
   "execution_count": 3,
   "id": "786e5fd2",
   "metadata": {},
   "outputs": [
    {
     "name": "stderr",
     "output_type": "stream",
     "text": [
      "C:\\Users\\user\\anaconda3\\envs\\konlpy\\lib\\site-packages\\ipykernel_launcher.py:1: DeprecationWarning: Call to deprecated `glove2word2vec` (KeyedVectors.load_word2vec_format(.., binary=False, no_header=True) loads GLoVE text vectors.).\n",
      "  \"\"\"Entry point for launching an IPython kernel.\n"
     ]
    },
    {
     "data": {
      "text/plain": [
       "(358043, 100)"
      ]
     },
     "execution_count": 3,
     "metadata": {},
     "output_type": "execute_result"
    }
   ],
   "source": [
    "glove2word2vec(input_file, output_file)"
   ]
  },
  {
   "cell_type": "code",
   "execution_count": 4,
   "id": "981ef12e",
   "metadata": {},
   "outputs": [],
   "source": [
    "model = KeyedVectors.load_word2vec_format(output_file, binary=False)"
   ]
  },
  {
   "cell_type": "markdown",
   "id": "590714fd",
   "metadata": {},
   "source": [
    "> 단어 \"학생\"과 가장 유사한 단어 출력"
   ]
  },
  {
   "cell_type": "code",
   "execution_count": 5,
   "id": "74c22feb",
   "metadata": {},
   "outputs": [
    {
     "data": {
      "text/plain": [
       "[('대학생', 0.7461106777191162),\n",
       " ('교사', 0.7416083216667175),\n",
       " ('교육', 0.7392004728317261),\n",
       " ('학교', 0.7304965257644653),\n",
       " ('입학', 0.7118252515792847),\n",
       " ('수업', 0.7032736539840698),\n",
       " ('재학', 0.7020388841629028),\n",
       " ('대학', 0.6750809550285339),\n",
       " ('학년', 0.6738568544387817),\n",
       " ('청년', 0.6623227596282959)]"
      ]
     },
     "execution_count": 5,
     "metadata": {},
     "output_type": "execute_result"
    }
   ],
   "source": [
    "model.most_similar(\"학생\")"
   ]
  },
  {
   "cell_type": "markdown",
   "id": "462f3afc",
   "metadata": {},
   "source": [
    "> 단어 \"학생\"을 표현하는 벡터 출력"
   ]
  },
  {
   "cell_type": "code",
   "execution_count": 6,
   "id": "26445ac7",
   "metadata": {},
   "outputs": [
    {
     "data": {
      "text/plain": [
       "array([-0.442068,  0.419098,  0.265649,  0.465298,  0.436024, -0.611068,\n",
       "        0.110598, -0.283077, -0.739254, -0.136494,  0.943221, -0.018234,\n",
       "       -0.364238,  0.174971, -0.060601,  0.589938,  0.049765,  1.000368,\n",
       "       -0.457208,  0.212553,  1.518014,  0.862085,  0.412899,  0.238667,\n",
       "       -0.591947,  0.18163 ,  0.224116, -0.625323,  0.109464,  0.119204,\n",
       "       -0.245809,  0.986929, -0.045883,  0.071091, -0.4182  , -0.286162,\n",
       "        0.229927,  0.182633, -0.186163,  0.945371, -1.131229, -0.380229,\n",
       "        1.127151,  0.054559, -0.102182, -0.798828, -0.392313, -0.164243,\n",
       "        0.402235,  0.310786, -0.470877, -0.305461, -0.050434, -0.817   ,\n",
       "       -0.670995, -0.690822,  0.100976, -0.36821 , -0.052327,  0.745279,\n",
       "       -0.142464,  0.350418,  0.019924, -0.879077,  0.79674 , -0.243174,\n",
       "       -0.291755, -2.295311, -0.880873,  0.395374,  0.141354, -0.180227,\n",
       "        0.653104, -0.633723, -0.189108, -0.86881 ,  0.998197,  0.027758,\n",
       "        0.135938, -0.488405,  1.113262, -0.228982, -0.569984,  0.478307,\n",
       "        0.288364,  0.75189 , -0.37289 ,  0.047884,  0.319494,  0.242691,\n",
       "        0.070611,  0.444856, -0.822565,  0.669393,  0.985902,  0.34702 ,\n",
       "        0.29148 ,  0.207687,  0.708681, -0.06165 ], dtype=float32)"
      ]
     },
     "execution_count": 6,
     "metadata": {},
     "output_type": "execute_result"
    }
   ],
   "source": [
    "model[\"학생\"]"
   ]
  },
  {
   "cell_type": "markdown",
   "id": "827f4f66",
   "metadata": {},
   "source": [
    "여기선 문장들이 담겨있는 csv파일을 읽어와 각 문장을 토크나이저 Mecab을 이용해 토큰화를 진행한다. 그 후 word to index, index to word를 생성한 후 각 문장를 단어의 index로 표현한다."
   ]
  },
  {
   "cell_type": "code",
   "execution_count": 7,
   "id": "a8bfe3f7",
   "metadata": {},
   "outputs": [],
   "source": [
    "import pandas as pd"
   ]
  },
  {
   "cell_type": "code",
   "execution_count": 8,
   "id": "ac627616",
   "metadata": {},
   "outputs": [],
   "source": [
    "df = pd.read_csv(\"sample.csv\", encoding=\"utf-8\")"
   ]
  },
  {
   "cell_type": "code",
   "execution_count": 9,
   "id": "4f7a7471",
   "metadata": {},
   "outputs": [
    {
     "data": {
      "text/html": [
       "<div>\n",
       "<style scoped>\n",
       "    .dataframe tbody tr th:only-of-type {\n",
       "        vertical-align: middle;\n",
       "    }\n",
       "\n",
       "    .dataframe tbody tr th {\n",
       "        vertical-align: top;\n",
       "    }\n",
       "\n",
       "    .dataframe thead th {\n",
       "        text-align: right;\n",
       "    }\n",
       "</style>\n",
       "<table border=\"1\" class=\"dataframe\">\n",
       "  <thead>\n",
       "    <tr style=\"text-align: right;\">\n",
       "      <th></th>\n",
       "      <th>sentence</th>\n",
       "    </tr>\n",
       "  </thead>\n",
       "  <tbody>\n",
       "    <tr>\n",
       "      <th>0</th>\n",
       "      <td>오늘 학생들의 기분은 매우 좋다</td>\n",
       "    </tr>\n",
       "    <tr>\n",
       "      <th>1</th>\n",
       "      <td>시험 성적이 기대된다</td>\n",
       "    </tr>\n",
       "  </tbody>\n",
       "</table>\n",
       "</div>"
      ],
      "text/plain": [
       "            sentence\n",
       "0  오늘 학생들의 기분은 매우 좋다\n",
       "1        시험 성적이 기대된다"
      ]
     },
     "execution_count": 9,
     "metadata": {},
     "output_type": "execute_result"
    }
   ],
   "source": [
    "df.head()"
   ]
  },
  {
   "cell_type": "code",
   "execution_count": 12,
   "id": "600f4407",
   "metadata": {},
   "outputs": [
    {
     "name": "stdout",
     "output_type": "stream",
     "text": [
      "['열심히', '코딩', '한', '당신', ',', '연휴', '에', '는', '여행', '을', '가', '봐요']\n"
     ]
    }
   ],
   "source": [
    "# JDK 설치 (https://webnautes.tistory.com/1394)\n",
    "# 시스템에서 JAVA_HOME 설정\n",
    "# Path 설정\n",
    "# conda install -c conda-forge jpype1\n",
    "# pip install konlpy\n",
    "# whl파일 다운 및 설치 (https://www.lfd.uci.edu/~gohlke/pythonlibs/#jpype, 1.1.2 version 추천)\n",
    "\n",
    "from konlpy.tag import Mecab\n",
    "import numpy as np\n",
    "\n",
    "m = Mecab(\"C:\\mecab\\mecab-ko-dic\")\n",
    "print(m.morphs(\"열심히 코딩한 당신, 연휴에는 여행을 가봐요\"))"
   ]
  },
  {
   "cell_type": "markdown",
   "id": "b17ae5ea",
   "metadata": {},
   "source": [
    "> 토큰화 및 word to index 생성"
   ]
  },
  {
   "cell_type": "code",
   "execution_count": 19,
   "id": "214a31a0",
   "metadata": {},
   "outputs": [],
   "source": [
    "word2idx = {}\n",
    "word2idx[\"PAD\"] = 0\n",
    "word2idx[\"UNK\"] = 1\n",
    "\n",
    "count = 2\n",
    "\n",
    "data = list(df[\"sentence\"])\n",
    "sentences = []\n",
    "\n",
    "for i in range(len(data)):\n",
    "    data[i] = m.morphs(data[i])\n",
    "    sentences.append(data[i])\n",
    "    for token in data[i]:\n",
    "        if token not in word2idx.keys():\n",
    "            word2idx[token] = count\n",
    "            count += 1\n",
    "            \n",
    "idx2word = {y:x for x,y in word2idx.items()}"
   ]
  },
  {
   "cell_type": "code",
   "execution_count": 16,
   "id": "84c51833",
   "metadata": {},
   "outputs": [
    {
     "data": {
      "text/plain": [
       "{'PAD': 0,\n",
       " 'UNK': 1,\n",
       " '오늘': 2,\n",
       " '학생': 3,\n",
       " '들': 4,\n",
       " '의': 5,\n",
       " '기분': 6,\n",
       " '은': 7,\n",
       " '매우': 8,\n",
       " '좋': 9,\n",
       " '다': 10,\n",
       " '시험': 11,\n",
       " '성적': 12,\n",
       " '이': 13,\n",
       " '기대': 14,\n",
       " '된다': 15}"
      ]
     },
     "execution_count": 16,
     "metadata": {},
     "output_type": "execute_result"
    }
   ],
   "source": [
    "word2idx"
   ]
  },
  {
   "cell_type": "markdown",
   "id": "5ce9a49c",
   "metadata": {},
   "source": [
    ">index to word 생성"
   ]
  },
  {
   "cell_type": "code",
   "execution_count": 20,
   "id": "a01b11bc",
   "metadata": {},
   "outputs": [
    {
     "data": {
      "text/plain": [
       "{0: 'PAD',\n",
       " 1: 'UNK',\n",
       " 2: '오늘',\n",
       " 3: '학생',\n",
       " 4: '들',\n",
       " 5: '의',\n",
       " 6: '기분',\n",
       " 7: '은',\n",
       " 8: '매우',\n",
       " 9: '좋',\n",
       " 10: '다',\n",
       " 11: '시험',\n",
       " 12: '성적',\n",
       " 13: '이',\n",
       " 14: '기대',\n",
       " 15: '된다'}"
      ]
     },
     "execution_count": 20,
     "metadata": {},
     "output_type": "execute_result"
    }
   ],
   "source": [
    "idx2word"
   ]
  },
  {
   "cell_type": "code",
   "execution_count": 35,
   "id": "ecbea282",
   "metadata": {},
   "outputs": [
    {
     "name": "stdout",
     "output_type": "stream",
     "text": [
      "[[2, 3, 4, 5, 6, 7, 8, 9, 10], [11, 12, 13, 14, 15]]\n"
     ]
    }
   ],
   "source": [
    "sent2idx = []\n",
    "for i in range(len(sentences)):\n",
    "    sample = [word2idx[j] for j in sentences[i]]\n",
    "    sent2idx.append(sample)\n",
    "    \n",
    "print(sent2idx)"
   ]
  },
  {
   "cell_type": "markdown",
   "id": "13ee34a7",
   "metadata": {},
   "source": [
    "차후 딥러닝 모델 구축 과정 중 nn.Embedding에 덮어쓸 weight를 생성한다. 단어의 index를 embedding을 위한 look up table에서 해당 단어의 임베딩 벡터가 존재해야할 위치로 사용해야 한다."
   ]
  },
  {
   "cell_type": "code",
   "execution_count": 29,
   "id": "bc68a2e6",
   "metadata": {},
   "outputs": [],
   "source": [
    "vocab_num = len(word2idx.keys())\n",
    "weight = np.zeros((vocab_num, 100))\n",
    "for i in range(2, vocab_num):\n",
    "    if idx2word[i] in model.key_to_index.keys():\n",
    "        weight[i] = model[idx2word[i]]"
   ]
  },
  {
   "cell_type": "markdown",
   "id": "de4ceb10",
   "metadata": {},
   "source": [
    "2번 index는 단어 \"오늘\"을 의미한다. 그렇다면 look up table에서 2번째 줄의 벡터와 pretrained glove가 생성한 \"의미\"를 나타내는 벡터는 동일해야 한다."
   ]
  },
  {
   "cell_type": "code",
   "execution_count": 30,
   "id": "6c55600e",
   "metadata": {},
   "outputs": [
    {
     "data": {
      "text/plain": [
       "array([ 0.230271  , -0.20643599, -0.49470699, -0.006647  , -0.105034  ,\n",
       "        0.40849   , -0.395722  , -0.334943  , -0.55203998,  0.296213  ,\n",
       "       -0.65965998,  0.08553   ,  0.03589   , -0.077918  ,  0.35376099,\n",
       "       -0.46819001, -0.061734  , -0.54861999,  0.25723901,  0.227614  ,\n",
       "        1.56688404, -0.31051001, -0.22943801,  0.53551501, -0.246006  ,\n",
       "        0.37057701, -0.45850301, -0.78754598,  0.17702   ,  0.35902199,\n",
       "       -0.933312  , -0.37389901,  0.65083599,  0.25772801, -0.61403   ,\n",
       "       -0.28142601,  0.139157  ,  0.85244697,  0.08039   ,  0.346275  ,\n",
       "        0.14231899,  0.47718999,  0.23139501,  0.019545  ,  0.353598  ,\n",
       "       -0.20912801, -0.42031601, -0.69834697,  1.10519803,  0.51489198,\n",
       "        0.19998901,  0.172005  ,  1.10531998, -0.146338  , -0.15420499,\n",
       "        0.036494  ,  0.16675501, -0.329153  , -0.039567  , -0.098935  ,\n",
       "        0.072235  ,  0.316726  , -0.57284302,  0.67462403,  0.108507  ,\n",
       "        0.26225099,  0.23825499, -1.44127202, -0.34044299,  0.04393   ,\n",
       "        0.093036  , -0.83797699,  0.463689  ,  0.46840101, -0.078953  ,\n",
       "        0.81616002,  0.61446702,  0.252222  ,  0.55758601, -0.47210801,\n",
       "        0.33719599,  0.33712   ,  0.35218   , -0.110014  ,  0.329243  ,\n",
       "        0.18223201, -0.111376  , -0.54860997,  0.04768   , -0.112666  ,\n",
       "        0.42398101,  0.304685  , -0.31183299,  0.514112  ,  0.348719  ,\n",
       "       -0.208684  ,  0.83241498,  0.52524197,  1.15488505,  0.043519  ])"
      ]
     },
     "execution_count": 30,
     "metadata": {},
     "output_type": "execute_result"
    }
   ],
   "source": [
    "weight[2]"
   ]
  },
  {
   "cell_type": "code",
   "execution_count": 31,
   "id": "7d994e36",
   "metadata": {},
   "outputs": [
    {
     "data": {
      "text/plain": [
       "array([ 0.230271, -0.206436, -0.494707, -0.006647, -0.105034,  0.40849 ,\n",
       "       -0.395722, -0.334943, -0.55204 ,  0.296213, -0.65966 ,  0.08553 ,\n",
       "        0.03589 , -0.077918,  0.353761, -0.46819 , -0.061734, -0.54862 ,\n",
       "        0.257239,  0.227614,  1.566884, -0.31051 , -0.229438,  0.535515,\n",
       "       -0.246006,  0.370577, -0.458503, -0.787546,  0.17702 ,  0.359022,\n",
       "       -0.933312, -0.373899,  0.650836,  0.257728, -0.61403 , -0.281426,\n",
       "        0.139157,  0.852447,  0.08039 ,  0.346275,  0.142319,  0.47719 ,\n",
       "        0.231395,  0.019545,  0.353598, -0.209128, -0.420316, -0.698347,\n",
       "        1.105198,  0.514892,  0.199989,  0.172005,  1.10532 , -0.146338,\n",
       "       -0.154205,  0.036494,  0.166755, -0.329153, -0.039567, -0.098935,\n",
       "        0.072235,  0.316726, -0.572843,  0.674624,  0.108507,  0.262251,\n",
       "        0.238255, -1.441272, -0.340443,  0.04393 ,  0.093036, -0.837977,\n",
       "        0.463689,  0.468401, -0.078953,  0.81616 ,  0.614467,  0.252222,\n",
       "        0.557586, -0.472108,  0.337196,  0.33712 ,  0.35218 , -0.110014,\n",
       "        0.329243,  0.182232, -0.111376, -0.54861 ,  0.04768 , -0.112666,\n",
       "        0.423981,  0.304685, -0.311833,  0.514112,  0.348719, -0.208684,\n",
       "        0.832415,  0.525242,  1.154885,  0.043519], dtype=float32)"
      ]
     },
     "execution_count": 31,
     "metadata": {},
     "output_type": "execute_result"
    }
   ],
   "source": [
    "model[\"오늘\"]"
   ]
  },
  {
   "cell_type": "code",
   "execution_count": null,
   "id": "d888ddf5",
   "metadata": {},
   "outputs": [],
   "source": []
  }
 ],
 "metadata": {
  "kernelspec": {
   "display_name": "Python 3 (ipykernel)",
   "language": "python",
   "name": "python3"
  },
  "language_info": {
   "codemirror_mode": {
    "name": "ipython",
    "version": 3
   },
   "file_extension": ".py",
   "mimetype": "text/x-python",
   "name": "python",
   "nbconvert_exporter": "python",
   "pygments_lexer": "ipython3",
   "version": "3.7.10"
  }
 },
 "nbformat": 4,
 "nbformat_minor": 5
}
