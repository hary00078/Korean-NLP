{
 "cells": [
  {
   "cell_type": "code",
   "execution_count": 1,
   "id": "7a4453f7",
   "metadata": {},
   "outputs": [
    {
     "name": "stderr",
     "output_type": "stream",
     "text": [
      "C:\\Users\\user\\anaconda3\\envs\\konlpy\\lib\\site-packages\\gensim\\similarities\\__init__.py:15: UserWarning: The gensim.similarities.levenshtein submodule is disabled, because the optional Levenshtein package <https://pypi.org/project/python-Levenshtein/> is unavailable. Install Levenhstein (e.g. `pip install python-Levenshtein`) to suppress this warning.\n",
      "  warnings.warn(msg)\n"
     ]
    }
   ],
   "source": [
    "from gensim.models import Word2Vec, KeyedVectors\n",
    "import pandas as pd\n",
    "import string\n",
    "\n",
    "from konlpy.tag import Mecab\n",
    "import numpy as np"
   ]
  },
  {
   "cell_type": "markdown",
   "id": "cb98f404",
   "metadata": {},
   "source": [
    "한국어 코퍼스인 네이버 영화리뷰 데이터를 사용하여 word2vec 모델을 훈련시킵니다. 전처리 과정을 마친 훈련 데이터셋을 이용할 것이며 전처리 과정은 해당 링크를 참고하면 됩니다."
   ]
  },
  {
   "cell_type": "code",
   "execution_count": 2,
   "id": "73f0342f",
   "metadata": {},
   "outputs": [],
   "source": [
    "df = pd.read_csv(\"train_for_korean.csv\", encoding=\"utf-8-sig\")"
   ]
  },
  {
   "cell_type": "code",
   "execution_count": 3,
   "id": "fc64f35c",
   "metadata": {},
   "outputs": [
    {
     "data": {
      "text/html": [
       "<div>\n",
       "<style scoped>\n",
       "    .dataframe tbody tr th:only-of-type {\n",
       "        vertical-align: middle;\n",
       "    }\n",
       "\n",
       "    .dataframe tbody tr th {\n",
       "        vertical-align: top;\n",
       "    }\n",
       "\n",
       "    .dataframe thead th {\n",
       "        text-align: right;\n",
       "    }\n",
       "</style>\n",
       "<table border=\"1\" class=\"dataframe\">\n",
       "  <thead>\n",
       "    <tr style=\"text-align: right;\">\n",
       "      <th></th>\n",
       "      <th>id</th>\n",
       "      <th>document</th>\n",
       "      <th>label</th>\n",
       "    </tr>\n",
       "  </thead>\n",
       "  <tbody>\n",
       "    <tr>\n",
       "      <th>0</th>\n",
       "      <td>9976970</td>\n",
       "      <td>아 더빙 진짜 짜증나네요 목소리</td>\n",
       "      <td>0</td>\n",
       "    </tr>\n",
       "    <tr>\n",
       "      <th>1</th>\n",
       "      <td>3819312</td>\n",
       "      <td>흠포스터 보고 초딩 영화 줄 오버 연기조차 가볍지 않구나</td>\n",
       "      <td>1</td>\n",
       "    </tr>\n",
       "    <tr>\n",
       "      <th>2</th>\n",
       "      <td>10265843</td>\n",
       "      <td>너무 재밓었다 그래서 보는 것을 추천한다</td>\n",
       "      <td>0</td>\n",
       "    </tr>\n",
       "    <tr>\n",
       "      <th>3</th>\n",
       "      <td>9045019</td>\n",
       "      <td>교도소 이야기구먼 솔직히 재미는 없다 평점 조정</td>\n",
       "      <td>0</td>\n",
       "    </tr>\n",
       "    <tr>\n",
       "      <th>4</th>\n",
       "      <td>6483659</td>\n",
       "      <td>사이몬 페그의 익살스런 연기가 돋보였던 영화 스파이더맨에서 늙어 보이기만 했던 커스...</td>\n",
       "      <td>1</td>\n",
       "    </tr>\n",
       "  </tbody>\n",
       "</table>\n",
       "</div>"
      ],
      "text/plain": [
       "         id                                           document  label\n",
       "0   9976970                                  아 더빙 진짜 짜증나네요 목소리      0\n",
       "1   3819312                    흠포스터 보고 초딩 영화 줄 오버 연기조차 가볍지 않구나      1\n",
       "2  10265843                             너무 재밓었다 그래서 보는 것을 추천한다      0\n",
       "3   9045019                         교도소 이야기구먼 솔직히 재미는 없다 평점 조정      0\n",
       "4   6483659  사이몬 페그의 익살스런 연기가 돋보였던 영화 스파이더맨에서 늙어 보이기만 했던 커스...      1"
      ]
     },
     "execution_count": 3,
     "metadata": {},
     "output_type": "execute_result"
    }
   ],
   "source": [
    "df.head()"
   ]
  },
  {
   "cell_type": "code",
   "execution_count": 4,
   "id": "d326897d",
   "metadata": {},
   "outputs": [],
   "source": [
    "df = df[[\"document\"]]"
   ]
  },
  {
   "cell_type": "code",
   "execution_count": 5,
   "id": "492d2330",
   "metadata": {},
   "outputs": [
    {
     "data": {
      "text/html": [
       "<div>\n",
       "<style scoped>\n",
       "    .dataframe tbody tr th:only-of-type {\n",
       "        vertical-align: middle;\n",
       "    }\n",
       "\n",
       "    .dataframe tbody tr th {\n",
       "        vertical-align: top;\n",
       "    }\n",
       "\n",
       "    .dataframe thead th {\n",
       "        text-align: right;\n",
       "    }\n",
       "</style>\n",
       "<table border=\"1\" class=\"dataframe\">\n",
       "  <thead>\n",
       "    <tr style=\"text-align: right;\">\n",
       "      <th></th>\n",
       "      <th>document</th>\n",
       "    </tr>\n",
       "  </thead>\n",
       "  <tbody>\n",
       "    <tr>\n",
       "      <th>0</th>\n",
       "      <td>아 더빙 진짜 짜증나네요 목소리</td>\n",
       "    </tr>\n",
       "    <tr>\n",
       "      <th>1</th>\n",
       "      <td>흠포스터 보고 초딩 영화 줄 오버 연기조차 가볍지 않구나</td>\n",
       "    </tr>\n",
       "    <tr>\n",
       "      <th>2</th>\n",
       "      <td>너무 재밓었다 그래서 보는 것을 추천한다</td>\n",
       "    </tr>\n",
       "    <tr>\n",
       "      <th>3</th>\n",
       "      <td>교도소 이야기구먼 솔직히 재미는 없다 평점 조정</td>\n",
       "    </tr>\n",
       "    <tr>\n",
       "      <th>4</th>\n",
       "      <td>사이몬 페그의 익살스런 연기가 돋보였던 영화 스파이더맨에서 늙어 보이기만 했던 커스...</td>\n",
       "    </tr>\n",
       "  </tbody>\n",
       "</table>\n",
       "</div>"
      ],
      "text/plain": [
       "                                            document\n",
       "0                                  아 더빙 진짜 짜증나네요 목소리\n",
       "1                    흠포스터 보고 초딩 영화 줄 오버 연기조차 가볍지 않구나\n",
       "2                             너무 재밓었다 그래서 보는 것을 추천한다\n",
       "3                         교도소 이야기구먼 솔직히 재미는 없다 평점 조정\n",
       "4  사이몬 페그의 익살스런 연기가 돋보였던 영화 스파이더맨에서 늙어 보이기만 했던 커스..."
      ]
     },
     "execution_count": 5,
     "metadata": {},
     "output_type": "execute_result"
    }
   ],
   "source": [
    "df.head()"
   ]
  },
  {
   "cell_type": "markdown",
   "id": "49c28903",
   "metadata": {},
   "source": [
    "해당 데이터셋에는 결측치가 있을 뿐만 아니라 공백으로 이루어진 문자열도 있습니다. 그렇기에 해당 데이터들은 지웁니다."
   ]
  },
  {
   "cell_type": "code",
   "execution_count": 6,
   "id": "8c3a8d76",
   "metadata": {},
   "outputs": [
    {
     "name": "stderr",
     "output_type": "stream",
     "text": [
      "C:\\Users\\user\\anaconda3\\envs\\konlpy\\lib\\site-packages\\pandas\\core\\indexes\\base.py:4308: FutureWarning: Using a non-tuple sequence for multidimensional indexing is deprecated; use `arr[tuple(seq)]` instead of `arr[seq]`. In the future this will be interpreted as an array index, `arr[np.array(seq)]`, which will result either in an error or a different result.\n",
      "  result = getitem(key)\n"
     ]
    }
   ],
   "source": [
    "df = df.dropna(axis=0)\n",
    "space_idx = []\n",
    "for i in range(len(df)):\n",
    "    if str.isspace(df.iloc[i, 0]) == True:\n",
    "        space_idx.append(i)\n",
    "df = df.drop(df.index[[space_idx]])"
   ]
  },
  {
   "cell_type": "markdown",
   "id": "024b4bca",
   "metadata": {},
   "source": [
    "Word2Vec을 훈련시키기 위해 tensor의 모양을 변형시킨 후 각 문장을 토큰화 합니다"
   ]
  },
  {
   "cell_type": "code",
   "execution_count": 7,
   "id": "52889b46",
   "metadata": {},
   "outputs": [
    {
     "name": "stdout",
     "output_type": "stream",
     "text": [
      "(149646, 1)\n"
     ]
    }
   ],
   "source": [
    "data = df.to_numpy()\n",
    "print(data.shape)"
   ]
  },
  {
   "cell_type": "code",
   "execution_count": 8,
   "id": "5960537e",
   "metadata": {},
   "outputs": [
    {
     "name": "stdout",
     "output_type": "stream",
     "text": [
      "(149646,)\n"
     ]
    }
   ],
   "source": [
    "data = data.reshape(-1)\n",
    "print(data.shape)"
   ]
  },
  {
   "cell_type": "code",
   "execution_count": 9,
   "id": "a6805ae2",
   "metadata": {},
   "outputs": [
    {
     "name": "stdout",
     "output_type": "stream",
     "text": [
      "['열심히', '코딩', '한', '당신', ',', '연휴', '에', '는', '여행', '을', '가', '봐요']\n"
     ]
    }
   ],
   "source": [
    "m = Mecab(\"C:\\mecab\\mecab-ko-dic\")\n",
    "print(m.morphs(\"열심히 코딩한 당신, 연휴에는 여행을 가봐요\"))"
   ]
  },
  {
   "cell_type": "code",
   "execution_count": 10,
   "id": "90b1930b",
   "metadata": {},
   "outputs": [],
   "source": [
    "for i in range(len(data)):\n",
    "    data[i] = m.morphs(data[i])"
   ]
  },
  {
   "cell_type": "code",
   "execution_count": 21,
   "id": "09a13a1d",
   "metadata": {},
   "outputs": [
    {
     "data": {
      "text/plain": [
       "['흠', '포스터', '보고', '초딩', '영화', '줄', '오버', '연기', '조차', '가볍', '지', '않', '구나']"
      ]
     },
     "execution_count": 21,
     "metadata": {},
     "output_type": "execute_result"
    }
   ],
   "source": [
    "data[1]"
   ]
  },
  {
   "cell_type": "markdown",
   "id": "af122256",
   "metadata": {},
   "source": [
    "본격적으로 Word2Vec을 훈련시킵니다. 각 단어는 100차원 벡터 공간으로 표현되며 윈도우 사이즈가 5인 Skip Gram으로 훈련시킵니다. 이 때 단어의 최소 출현 수가 5회 이상인 단어들에 대해서만 학습을 진행합니다."
   ]
  },
  {
   "cell_type": "code",
   "execution_count": 15,
   "id": "65c32c2b",
   "metadata": {},
   "outputs": [],
   "source": [
    "model = Word2Vec(sentences=data, vector_size=100, window=5, min_count=5, workers=4, sg=1)\n",
    "# size : 임베딩 벡터 사이즈\n",
    "# window : 윈도우 사이즈\n",
    "# min_count : 단어 최소 빈도 수 제한\n",
    "# workers : 학습을 위한 프로세스 수\n",
    "# sg : 0 = CBOW, 1 = Skip-gram"
   ]
  },
  {
   "cell_type": "markdown",
   "id": "1b59cb7e",
   "metadata": {},
   "source": [
    "학습시킨 Word2Vec 모델이 \"학교\"라는 단어와 가장 유사하다고 판단한 단어들을 출력합니다. 더불어 \"학교\"라는 단어가 어떻게 표현됐는지 벡터를 확인합니다."
   ]
  },
  {
   "cell_type": "code",
   "execution_count": 18,
   "id": "5c2bb07e",
   "metadata": {},
   "outputs": [
    {
     "name": "stdout",
     "output_type": "stream",
     "text": [
      "[('학년', 0.8192612528800964), ('초등', 0.8187326788902283), ('중학교', 0.7957491278648376), ('고등학교', 0.7774748206138611), ('대학교', 0.7695490121841431), ('대학', 0.7577673196792603), ('EBS', 0.7564696073532104), ('저학년', 0.7461627125740051), ('동아리', 0.7402120232582092), ('다닐', 0.7393215298652649)]\n"
     ]
    }
   ],
   "source": [
    "model_result = model.wv.most_similar(\"학교\")\n",
    "print(model_result)"
   ]
  },
  {
   "cell_type": "code",
   "execution_count": 20,
   "id": "e14452d6",
   "metadata": {},
   "outputs": [
    {
     "name": "stdout",
     "output_type": "stream",
     "text": [
      "[-0.14919935  0.37061924 -0.5168925   0.45035076  0.7908818  -0.29296067\n",
      "  0.23340262  0.21285623  0.09351742 -0.19124721 -0.29800478 -0.08264505\n",
      " -0.3013297  -0.04739086  0.06156342 -0.1707079   0.572063   -0.52907497\n",
      "  0.25912708 -0.5796304  -0.13098337 -0.2906048   0.38956308 -0.4195059\n",
      "  0.09766378 -0.99081033 -0.5212223  -0.03514219  0.7170484  -0.03492802\n",
      " -0.24713577  0.31983596  0.07705984  0.25733083 -0.2954667   0.45152187\n",
      "  0.06174426 -0.7743571   0.24291737 -0.36259735 -0.17902227 -0.0737453\n",
      "  0.3603414  -0.16491678 -0.01550239  0.04524917 -0.1795484   0.3362554\n",
      " -0.09584425  0.42342502  0.0363703  -0.6856256   0.15439722  0.15333527\n",
      " -0.52088505  0.17987941  0.14759825 -0.05025753 -0.45552543  0.2990967\n",
      "  0.01507362 -0.31144735  0.10149104 -0.35816777  0.07904858  0.05298008\n",
      "  0.2261061   0.21521099 -0.71064913 -0.26958907 -0.07876834  0.284706\n",
      " -0.05561232 -0.00950367  0.27085766 -0.3528704  -0.352523    0.4248009\n",
      " -0.00305147  0.16771983 -0.43436423  0.2658655  -0.32222104  0.2531047\n",
      " -0.672628   -0.01466046  0.519391    0.3843258   0.15228228  0.08755878\n",
      " -0.06555125 -0.19949004  0.5554241  -0.19346975  0.28123188  0.3405634\n",
      " -0.05043744  0.05386496  0.12725514 -0.34340426]\n"
     ]
    }
   ],
   "source": [
    "print(model.wv[\"학교\"])"
   ]
  },
  {
   "cell_type": "code",
   "execution_count": null,
   "id": "1ad824dd",
   "metadata": {},
   "outputs": [],
   "source": []
  }
 ],
 "metadata": {
  "kernelspec": {
   "display_name": "Python 3 (ipykernel)",
   "language": "python",
   "name": "python3"
  },
  "language_info": {
   "codemirror_mode": {
    "name": "ipython",
    "version": 3
   },
   "file_extension": ".py",
   "mimetype": "text/x-python",
   "name": "python",
   "nbconvert_exporter": "python",
   "pygments_lexer": "ipython3",
   "version": "3.7.1"
  }
 },
 "nbformat": 4,
 "nbformat_minor": 5
}
